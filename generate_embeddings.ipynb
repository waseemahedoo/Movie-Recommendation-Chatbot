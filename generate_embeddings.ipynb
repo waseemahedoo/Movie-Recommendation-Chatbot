{
 "cells": [
  {
   "cell_type": "code",
   "execution_count": 14,
   "metadata": {
    "_cell_guid": "b1076dfc-b9ad-4769-8c92-a6c4dae69d19",
    "_uuid": "8f2839f25d086af736a60e9eeb907d3b93b6e0e5",
    "execution": {
     "iopub.execute_input": "2025-06-10T08:29:22.172490Z",
     "iopub.status.busy": "2025-06-10T08:29:22.172211Z",
     "iopub.status.idle": "2025-06-10T08:29:22.176714Z",
     "shell.execute_reply": "2025-06-10T08:29:22.175830Z",
     "shell.execute_reply.started": "2025-06-10T08:29:22.172469Z"
    },
    "trusted": true
   },
   "outputs": [],
   "source": [
    "import numpy as np \n",
    "import pandas as pd "
   ]
  },
  {
   "cell_type": "code",
   "execution_count": 15,
   "metadata": {
    "execution": {
     "iopub.execute_input": "2025-06-10T08:29:22.503814Z",
     "iopub.status.busy": "2025-06-10T08:29:22.503192Z",
     "iopub.status.idle": "2025-06-10T08:29:22.535730Z",
     "shell.execute_reply": "2025-06-10T08:29:22.534992Z",
     "shell.execute_reply.started": "2025-06-10T08:29:22.503787Z"
    },
    "trusted": true
   },
   "outputs": [],
   "source": [
    "data = pd.read_csv('/kaggle/input/imdb-dataset-of-top-1000-movies-and-tv-shows/imdb_top_1000.csv', index_col=False)"
   ]
  },
  {
   "cell_type": "code",
   "execution_count": 16,
   "metadata": {
    "execution": {
     "iopub.execute_input": "2025-06-10T08:29:24.509087Z",
     "iopub.status.busy": "2025-06-10T08:29:24.508806Z",
     "iopub.status.idle": "2025-06-10T08:29:24.524335Z",
     "shell.execute_reply": "2025-06-10T08:29:24.523483Z",
     "shell.execute_reply.started": "2025-06-10T08:29:24.509068Z"
    },
    "trusted": true
   },
   "outputs": [
    {
     "data": {
      "text/html": [
       "<div>\n",
       "<style scoped>\n",
       "    .dataframe tbody tr th:only-of-type {\n",
       "        vertical-align: middle;\n",
       "    }\n",
       "\n",
       "    .dataframe tbody tr th {\n",
       "        vertical-align: top;\n",
       "    }\n",
       "\n",
       "    .dataframe thead th {\n",
       "        text-align: right;\n",
       "    }\n",
       "</style>\n",
       "<table border=\"1\" class=\"dataframe\">\n",
       "  <thead>\n",
       "    <tr style=\"text-align: right;\">\n",
       "      <th></th>\n",
       "      <th>Poster_Link</th>\n",
       "      <th>Series_Title</th>\n",
       "      <th>Released_Year</th>\n",
       "      <th>Certificate</th>\n",
       "      <th>Runtime</th>\n",
       "      <th>Genre</th>\n",
       "      <th>IMDB_Rating</th>\n",
       "      <th>Overview</th>\n",
       "      <th>Meta_score</th>\n",
       "      <th>Director</th>\n",
       "      <th>Star1</th>\n",
       "      <th>Star2</th>\n",
       "      <th>Star3</th>\n",
       "      <th>Star4</th>\n",
       "      <th>No_of_Votes</th>\n",
       "      <th>Gross</th>\n",
       "    </tr>\n",
       "  </thead>\n",
       "  <tbody>\n",
       "    <tr>\n",
       "      <th>0</th>\n",
       "      <td>https://m.media-amazon.com/images/M/MV5BMDFkYT...</td>\n",
       "      <td>The Shawshank Redemption</td>\n",
       "      <td>1994</td>\n",
       "      <td>A</td>\n",
       "      <td>142 min</td>\n",
       "      <td>Drama</td>\n",
       "      <td>9.3</td>\n",
       "      <td>Two imprisoned men bond over a number of years...</td>\n",
       "      <td>80.0</td>\n",
       "      <td>Frank Darabont</td>\n",
       "      <td>Tim Robbins</td>\n",
       "      <td>Morgan Freeman</td>\n",
       "      <td>Bob Gunton</td>\n",
       "      <td>William Sadler</td>\n",
       "      <td>2343110</td>\n",
       "      <td>28,341,469</td>\n",
       "    </tr>\n",
       "    <tr>\n",
       "      <th>1</th>\n",
       "      <td>https://m.media-amazon.com/images/M/MV5BM2MyNj...</td>\n",
       "      <td>The Godfather</td>\n",
       "      <td>1972</td>\n",
       "      <td>A</td>\n",
       "      <td>175 min</td>\n",
       "      <td>Crime, Drama</td>\n",
       "      <td>9.2</td>\n",
       "      <td>An organized crime dynasty's aging patriarch t...</td>\n",
       "      <td>100.0</td>\n",
       "      <td>Francis Ford Coppola</td>\n",
       "      <td>Marlon Brando</td>\n",
       "      <td>Al Pacino</td>\n",
       "      <td>James Caan</td>\n",
       "      <td>Diane Keaton</td>\n",
       "      <td>1620367</td>\n",
       "      <td>134,966,411</td>\n",
       "    </tr>\n",
       "    <tr>\n",
       "      <th>2</th>\n",
       "      <td>https://m.media-amazon.com/images/M/MV5BMTMxNT...</td>\n",
       "      <td>The Dark Knight</td>\n",
       "      <td>2008</td>\n",
       "      <td>UA</td>\n",
       "      <td>152 min</td>\n",
       "      <td>Action, Crime, Drama</td>\n",
       "      <td>9.0</td>\n",
       "      <td>When the menace known as the Joker wreaks havo...</td>\n",
       "      <td>84.0</td>\n",
       "      <td>Christopher Nolan</td>\n",
       "      <td>Christian Bale</td>\n",
       "      <td>Heath Ledger</td>\n",
       "      <td>Aaron Eckhart</td>\n",
       "      <td>Michael Caine</td>\n",
       "      <td>2303232</td>\n",
       "      <td>534,858,444</td>\n",
       "    </tr>\n",
       "    <tr>\n",
       "      <th>3</th>\n",
       "      <td>https://m.media-amazon.com/images/M/MV5BMWMwMG...</td>\n",
       "      <td>The Godfather: Part II</td>\n",
       "      <td>1974</td>\n",
       "      <td>A</td>\n",
       "      <td>202 min</td>\n",
       "      <td>Crime, Drama</td>\n",
       "      <td>9.0</td>\n",
       "      <td>The early life and career of Vito Corleone in ...</td>\n",
       "      <td>90.0</td>\n",
       "      <td>Francis Ford Coppola</td>\n",
       "      <td>Al Pacino</td>\n",
       "      <td>Robert De Niro</td>\n",
       "      <td>Robert Duvall</td>\n",
       "      <td>Diane Keaton</td>\n",
       "      <td>1129952</td>\n",
       "      <td>57,300,000</td>\n",
       "    </tr>\n",
       "    <tr>\n",
       "      <th>4</th>\n",
       "      <td>https://m.media-amazon.com/images/M/MV5BMWU4N2...</td>\n",
       "      <td>12 Angry Men</td>\n",
       "      <td>1957</td>\n",
       "      <td>U</td>\n",
       "      <td>96 min</td>\n",
       "      <td>Crime, Drama</td>\n",
       "      <td>9.0</td>\n",
       "      <td>A jury holdout attempts to prevent a miscarria...</td>\n",
       "      <td>96.0</td>\n",
       "      <td>Sidney Lumet</td>\n",
       "      <td>Henry Fonda</td>\n",
       "      <td>Lee J. Cobb</td>\n",
       "      <td>Martin Balsam</td>\n",
       "      <td>John Fiedler</td>\n",
       "      <td>689845</td>\n",
       "      <td>4,360,000</td>\n",
       "    </tr>\n",
       "  </tbody>\n",
       "</table>\n",
       "</div>"
      ],
      "text/plain": [
       "                                         Poster_Link  \\\n",
       "0  https://m.media-amazon.com/images/M/MV5BMDFkYT...   \n",
       "1  https://m.media-amazon.com/images/M/MV5BM2MyNj...   \n",
       "2  https://m.media-amazon.com/images/M/MV5BMTMxNT...   \n",
       "3  https://m.media-amazon.com/images/M/MV5BMWMwMG...   \n",
       "4  https://m.media-amazon.com/images/M/MV5BMWU4N2...   \n",
       "\n",
       "               Series_Title Released_Year Certificate  Runtime  \\\n",
       "0  The Shawshank Redemption          1994           A  142 min   \n",
       "1             The Godfather          1972           A  175 min   \n",
       "2           The Dark Knight          2008          UA  152 min   \n",
       "3    The Godfather: Part II          1974           A  202 min   \n",
       "4              12 Angry Men          1957           U   96 min   \n",
       "\n",
       "                  Genre  IMDB_Rating  \\\n",
       "0                 Drama          9.3   \n",
       "1          Crime, Drama          9.2   \n",
       "2  Action, Crime, Drama          9.0   \n",
       "3          Crime, Drama          9.0   \n",
       "4          Crime, Drama          9.0   \n",
       "\n",
       "                                            Overview  Meta_score  \\\n",
       "0  Two imprisoned men bond over a number of years...        80.0   \n",
       "1  An organized crime dynasty's aging patriarch t...       100.0   \n",
       "2  When the menace known as the Joker wreaks havo...        84.0   \n",
       "3  The early life and career of Vito Corleone in ...        90.0   \n",
       "4  A jury holdout attempts to prevent a miscarria...        96.0   \n",
       "\n",
       "               Director           Star1           Star2          Star3  \\\n",
       "0        Frank Darabont     Tim Robbins  Morgan Freeman     Bob Gunton   \n",
       "1  Francis Ford Coppola   Marlon Brando       Al Pacino     James Caan   \n",
       "2     Christopher Nolan  Christian Bale    Heath Ledger  Aaron Eckhart   \n",
       "3  Francis Ford Coppola       Al Pacino  Robert De Niro  Robert Duvall   \n",
       "4          Sidney Lumet     Henry Fonda     Lee J. Cobb  Martin Balsam   \n",
       "\n",
       "            Star4  No_of_Votes        Gross  \n",
       "0  William Sadler      2343110   28,341,469  \n",
       "1    Diane Keaton      1620367  134,966,411  \n",
       "2   Michael Caine      2303232  534,858,444  \n",
       "3    Diane Keaton      1129952   57,300,000  \n",
       "4    John Fiedler       689845    4,360,000  "
      ]
     },
     "execution_count": 16,
     "metadata": {},
     "output_type": "execute_result"
    }
   ],
   "source": [
    "data.head(5)"
   ]
  },
  {
   "cell_type": "code",
   "execution_count": 21,
   "metadata": {
    "execution": {
     "iopub.execute_input": "2025-06-10T08:54:47.354496Z",
     "iopub.status.busy": "2025-06-10T08:54:47.354195Z",
     "iopub.status.idle": "2025-06-10T08:54:47.362042Z",
     "shell.execute_reply": "2025-06-10T08:54:47.361095Z",
     "shell.execute_reply.started": "2025-06-10T08:54:47.354472Z"
    },
    "trusted": true
   },
   "outputs": [],
   "source": [
    "movies_desc = data[['Series_Title', 'Overview']]\n",
    "movies_desc = movies_desc.rename(columns={'Series_Title':'Movie Name', 'Overview':'Description'})\n",
    "movie_dict = dict(zip(movies_desc[\"Movie Name\"], movies_desc[\"Description\"]))"
   ]
  },
  {
   "cell_type": "markdown",
   "metadata": {},
   "source": [
    "**Tokenisation and Embeddings**"
   ]
  },
  {
   "cell_type": "code",
   "execution_count": 25,
   "metadata": {
    "execution": {
     "iopub.execute_input": "2025-06-10T09:18:40.215726Z",
     "iopub.status.busy": "2025-06-10T09:18:40.215036Z",
     "iopub.status.idle": "2025-06-10T09:19:16.755755Z",
     "shell.execute_reply": "2025-06-10T09:19:16.754628Z",
     "shell.execute_reply.started": "2025-06-10T09:18:40.215693Z"
    },
    "trusted": true
   },
   "outputs": [
    {
     "name": "stderr",
     "output_type": "stream",
     "text": [
      "2025-06-10 09:18:43.607979: E external/local_xla/xla/stream_executor/cuda/cuda_fft.cc:477] Unable to register cuFFT factory: Attempting to register factory for plugin cuFFT when one has already been registered\n",
      "WARNING: All log messages before absl::InitializeLog() is called are written to STDERR\n",
      "E0000 00:00:1749547123.923005      35 cuda_dnn.cc:8310] Unable to register cuDNN factory: Attempting to register factory for plugin cuDNN when one has already been registered\n",
      "E0000 00:00:1749547124.024035      35 cuda_blas.cc:1418] Unable to register cuBLAS factory: Attempting to register factory for plugin cuBLAS when one has already been registered\n"
     ]
    },
    {
     "data": {
      "application/vnd.jupyter.widget-view+json": {
       "model_id": "9d688adf8a084106a9742d1c21280ce2",
       "version_major": 2,
       "version_minor": 0
      },
      "text/plain": [
       "modules.json:   0%|          | 0.00/387 [00:00<?, ?B/s]"
      ]
     },
     "metadata": {},
     "output_type": "display_data"
    },
    {
     "data": {
      "application/vnd.jupyter.widget-view+json": {
       "model_id": "2c82386738b94167a1c97d23d3c14b48",
       "version_major": 2,
       "version_minor": 0
      },
      "text/plain": [
       "README.md:   0%|          | 0.00/67.6k [00:00<?, ?B/s]"
      ]
     },
     "metadata": {},
     "output_type": "display_data"
    },
    {
     "data": {
      "application/vnd.jupyter.widget-view+json": {
       "model_id": "c0869a33b6e74eb0891a2df0080beacd",
       "version_major": 2,
       "version_minor": 0
      },
      "text/plain": [
       "sentence_bert_config.json:   0%|          | 0.00/57.0 [00:00<?, ?B/s]"
      ]
     },
     "metadata": {},
     "output_type": "display_data"
    },
    {
     "data": {
      "application/vnd.jupyter.widget-view+json": {
       "model_id": "703c549f249f4d7fa87437eb43a3eaa1",
       "version_major": 2,
       "version_minor": 0
      },
      "text/plain": [
       "config.json:   0%|          | 0.00/645 [00:00<?, ?B/s]"
      ]
     },
     "metadata": {},
     "output_type": "display_data"
    },
    {
     "data": {
      "application/vnd.jupyter.widget-view+json": {
       "model_id": "92422c5d3fed437c80c5dd10f83388f0",
       "version_major": 2,
       "version_minor": 0
      },
      "text/plain": [
       "model.safetensors:   0%|          | 0.00/438M [00:00<?, ?B/s]"
      ]
     },
     "metadata": {},
     "output_type": "display_data"
    },
    {
     "data": {
      "application/vnd.jupyter.widget-view+json": {
       "model_id": "18e0fca86e8b49c29dfcbbd6a6ea5be5",
       "version_major": 2,
       "version_minor": 0
      },
      "text/plain": [
       "tokenizer_config.json:   0%|          | 0.00/356 [00:00<?, ?B/s]"
      ]
     },
     "metadata": {},
     "output_type": "display_data"
    },
    {
     "data": {
      "application/vnd.jupyter.widget-view+json": {
       "model_id": "f71e933628d84d83945d2923893c3763",
       "version_major": 2,
       "version_minor": 0
      },
      "text/plain": [
       "vocab.txt:   0%|          | 0.00/232k [00:00<?, ?B/s]"
      ]
     },
     "metadata": {},
     "output_type": "display_data"
    },
    {
     "data": {
      "application/vnd.jupyter.widget-view+json": {
       "model_id": "0853b7e9b0e744b5b36f71d2c58c45d1",
       "version_major": 2,
       "version_minor": 0
      },
      "text/plain": [
       "tokenizer.json:   0%|          | 0.00/466k [00:00<?, ?B/s]"
      ]
     },
     "metadata": {},
     "output_type": "display_data"
    },
    {
     "data": {
      "application/vnd.jupyter.widget-view+json": {
       "model_id": "4804a0ce43f94fb4b0daac6fa8d5bd72",
       "version_major": 2,
       "version_minor": 0
      },
      "text/plain": [
       "special_tokens_map.json:   0%|          | 0.00/112 [00:00<?, ?B/s]"
      ]
     },
     "metadata": {},
     "output_type": "display_data"
    },
    {
     "data": {
      "application/vnd.jupyter.widget-view+json": {
       "model_id": "d44519b3dfac4bbb975a27426f51bba8",
       "version_major": 2,
       "version_minor": 0
      },
      "text/plain": [
       "config.json:   0%|          | 0.00/200 [00:00<?, ?B/s]"
      ]
     },
     "metadata": {},
     "output_type": "display_data"
    }
   ],
   "source": [
    "from sentence_transformers import SentenceTransformer\n",
    "\n",
    "# Load embedding model\n",
    "model = SentenceTransformer(\"intfloat/e5-base\")\n"
   ]
  },
  {
   "cell_type": "code",
   "execution_count": 28,
   "metadata": {
    "execution": {
     "iopub.execute_input": "2025-06-10T09:26:46.485369Z",
     "iopub.status.busy": "2025-06-10T09:26:46.485039Z",
     "iopub.status.idle": "2025-06-10T09:26:46.490111Z",
     "shell.execute_reply": "2025-06-10T09:26:46.489048Z",
     "shell.execute_reply.started": "2025-06-10T09:26:46.485344Z"
    },
    "trusted": true
   },
   "outputs": [],
   "source": [
    "descriptions = list(movie_dict.values())\n"
   ]
  },
  {
   "cell_type": "code",
   "execution_count": 29,
   "metadata": {
    "execution": {
     "iopub.execute_input": "2025-06-10T09:26:48.544527Z",
     "iopub.status.busy": "2025-06-10T09:26:48.544195Z",
     "iopub.status.idle": "2025-06-10T09:27:42.380331Z",
     "shell.execute_reply": "2025-06-10T09:27:42.379384Z",
     "shell.execute_reply.started": "2025-06-10T09:26:48.544503Z"
    },
    "trusted": true
   },
   "outputs": [
    {
     "data": {
      "application/vnd.jupyter.widget-view+json": {
       "model_id": "d59a0e55110f4172b3f31a7e4c6a9da5",
       "version_major": 2,
       "version_minor": 0
      },
      "text/plain": [
       "Batches:   0%|          | 0/32 [00:00<?, ?it/s]"
      ]
     },
     "metadata": {},
     "output_type": "display_data"
    }
   ],
   "source": [
    "embeddings = model.encode(descriptions, convert_to_tensor=True)\n"
   ]
  },
  {
   "cell_type": "code",
   "execution_count": 30,
   "metadata": {
    "execution": {
     "iopub.execute_input": "2025-06-10T09:29:05.030150Z",
     "iopub.status.busy": "2025-06-10T09:29:05.029764Z",
     "iopub.status.idle": "2025-06-10T09:29:05.046399Z",
     "shell.execute_reply": "2025-06-10T09:29:05.045661Z",
     "shell.execute_reply.started": "2025-06-10T09:29:05.030122Z"
    },
    "trusted": true
   },
   "outputs": [
    {
     "data": {
      "text/plain": [
       "tensor([[-0.0369,  0.0219, -0.0012,  ...,  0.0175,  0.0133,  0.0013],\n",
       "        [-0.0754,  0.0234, -0.0175,  ..., -0.0116,  0.0264,  0.0416],\n",
       "        [-0.0683,  0.0316, -0.0175,  ..., -0.0011,  0.0066,  0.0177],\n",
       "        ...,\n",
       "        [-0.0475,  0.0201, -0.0299,  ...,  0.0193,  0.0188,  0.0359],\n",
       "        [-0.0443, -0.0247, -0.0039,  ...,  0.0106,  0.0296,  0.0374],\n",
       "        [-0.0614, -0.0033, -0.0050,  ...,  0.0262,  0.0003,  0.0419]])"
      ]
     },
     "execution_count": 30,
     "metadata": {},
     "output_type": "execute_result"
    }
   ],
   "source": [
    "embeddings"
   ]
  },
  {
   "cell_type": "code",
   "execution_count": 32,
   "metadata": {
    "execution": {
     "iopub.execute_input": "2025-06-10T10:09:28.176555Z",
     "iopub.status.busy": "2025-06-10T10:09:28.176228Z",
     "iopub.status.idle": "2025-06-10T10:09:28.186240Z",
     "shell.execute_reply": "2025-06-10T10:09:28.185241Z",
     "shell.execute_reply.started": "2025-06-10T10:09:28.176529Z"
    },
    "trusted": true
   },
   "outputs": [],
   "source": [
    "import torch\n",
    "\n",
    "movie_data = list(zip(movies_desc[\"Movie Name\"], embeddings))\n"
   ]
  },
  {
   "cell_type": "code",
   "execution_count": 38,
   "metadata": {
    "execution": {
     "iopub.execute_input": "2025-06-10T10:13:03.906479Z",
     "iopub.status.busy": "2025-06-10T10:13:03.906182Z",
     "iopub.status.idle": "2025-06-10T10:13:03.912369Z",
     "shell.execute_reply": "2025-06-10T10:13:03.911502Z",
     "shell.execute_reply.started": "2025-06-10T10:13:03.906456Z"
    },
    "trusted": true
   },
   "outputs": [
    {
     "data": {
      "text/plain": [
       "999"
      ]
     },
     "execution_count": 38,
     "metadata": {},
     "output_type": "execute_result"
    }
   ],
   "source": [
    "len(movie_data)"
   ]
  },
  {
   "cell_type": "code",
   "execution_count": 39,
   "metadata": {
    "execution": {
     "iopub.execute_input": "2025-06-10T10:13:30.265975Z",
     "iopub.status.busy": "2025-06-10T10:13:30.265563Z",
     "iopub.status.idle": "2025-06-10T10:13:30.290954Z",
     "shell.execute_reply": "2025-06-10T10:13:30.290101Z",
     "shell.execute_reply.started": "2025-06-10T10:13:30.265947Z"
    },
    "trusted": true
   },
   "outputs": [],
   "source": [
    "torch.save(embeddings, \"movie_embeddings.pt\")\n",
    "movies_desc.to_csv(\"/kaggle/working/movies.csv\", index=False)"
   ]
  },
  {
   "cell_type": "code",
   "execution_count": 51,
   "metadata": {
    "execution": {
     "iopub.execute_input": "2025-06-10T10:20:36.486236Z",
     "iopub.status.busy": "2025-06-10T10:20:36.485505Z",
     "iopub.status.idle": "2025-06-10T10:20:36.579092Z",
     "shell.execute_reply": "2025-06-10T10:20:36.578186Z",
     "shell.execute_reply.started": "2025-06-10T10:20:36.486211Z"
    },
    "trusted": true
   },
   "outputs": [
    {
     "data": {
      "application/vnd.jupyter.widget-view+json": {
       "model_id": "9d8fb8809f0f4084b8f9c7f63d50b831",
       "version_major": 2,
       "version_minor": 0
      },
      "text/plain": [
       "Batches:   0%|          | 0/1 [00:00<?, ?it/s]"
      ]
     },
     "metadata": {},
     "output_type": "display_data"
    }
   ],
   "source": [
    "user_query = \"I want a romantic movie with a twist ending.\"\n",
    "user_embedding = model.encode(user_query, convert_to_tensor=True)"
   ]
  },
  {
   "cell_type": "code",
   "execution_count": 52,
   "metadata": {
    "execution": {
     "iopub.execute_input": "2025-06-10T10:20:45.669574Z",
     "iopub.status.busy": "2025-06-10T10:20:45.669306Z",
     "iopub.status.idle": "2025-06-10T10:20:45.675556Z",
     "shell.execute_reply": "2025-06-10T10:20:45.674730Z",
     "shell.execute_reply.started": "2025-06-10T10:20:45.669555Z"
    },
    "trusted": true
   },
   "outputs": [],
   "source": [
    "from torch.nn.functional import cosine_similarity\n",
    "\n",
    "similarities = cosine_similarity(user_embedding, embeddings)"
   ]
  },
  {
   "cell_type": "code",
   "execution_count": 45,
   "metadata": {
    "execution": {
     "iopub.execute_input": "2025-06-10T10:16:41.563208Z",
     "iopub.status.busy": "2025-06-10T10:16:41.562240Z",
     "iopub.status.idle": "2025-06-10T10:16:41.581998Z",
     "shell.execute_reply": "2025-06-10T10:16:41.581266Z",
     "shell.execute_reply.started": "2025-06-10T10:16:41.563171Z"
    },
    "trusted": true
   },
   "outputs": [
    {
     "data": {
      "text/plain": [
       "tensor([0.6975, 0.7042, 0.7145, 0.6905, 0.6999, 0.6915, 0.7417, 0.6838, 0.7176,\n",
       "        0.7270, 0.7088, 0.7238, 0.7299, 0.6814, 0.7461, 0.7076, 0.6956, 0.7152,\n",
       "        0.6827, 0.6924, 0.7229, 0.6965, 0.6906, 0.7111, 0.6982, 0.7105, 0.7233,\n",
       "        0.7303, 0.7534, 0.6976, 0.7008, 0.6733, 0.6921, 0.7079, 0.7016, 0.7069,\n",
       "        0.7224, 0.6953, 0.6733, 0.7190, 0.6860, 0.7410, 0.7033, 0.6895, 0.7130,\n",
       "        0.7256, 0.6742, 0.6939, 0.7338, 0.7140, 0.7123, 0.6675, 0.7089, 0.6799,\n",
       "        0.7273, 0.7143, 0.7314, 0.6801, 0.7164, 0.7209, 0.7188, 0.6996, 0.7263,\n",
       "        0.7150, 0.7053, 0.6818, 0.7101, 0.7176, 0.7149, 0.7189, 0.7114, 0.7178,\n",
       "        0.6931, 0.7474, 0.7112, 0.7286, 0.7568, 0.7107, 0.7220, 0.7352, 0.6573,\n",
       "        0.7152, 0.7812, 0.6867, 0.7200, 0.7231, 0.7222, 0.7356, 0.7310, 0.6932,\n",
       "        0.7178, 0.7401, 0.6769, 0.6995, 0.7182, 0.7005, 0.6938, 0.7020, 0.7138,\n",
       "        0.7141, 0.7137, 0.6927, 0.6746, 0.7307, 0.6848, 0.7115, 0.7181, 0.6716,\n",
       "        0.7006, 0.7062, 0.7145, 0.7166, 0.7287, 0.7368, 0.7054, 0.7151, 0.6810,\n",
       "        0.7012, 0.6969, 0.7490, 0.7158, 0.7200, 0.6957, 0.7375, 0.7080, 0.6939,\n",
       "        0.7400, 0.7045, 0.7023, 0.7072, 0.7245, 0.7087, 0.7102, 0.7026, 0.6858,\n",
       "        0.7050, 0.7038, 0.6830, 0.6914, 0.6808, 0.6886, 0.7255, 0.7432, 0.7119,\n",
       "        0.7375, 0.7029, 0.7302, 0.6839, 0.7123, 0.7430, 0.6860, 0.7288, 0.7158,\n",
       "        0.7313, 0.7080, 0.7044, 0.6941, 0.7305, 0.7420, 0.6750, 0.7171, 0.7249,\n",
       "        0.7296, 0.7224, 0.7360, 0.7404, 0.6974, 0.6972, 0.7368, 0.7215, 0.7051,\n",
       "        0.7007, 0.6790, 0.6894, 0.7192, 0.7044, 0.7334, 0.7118, 0.6888, 0.6854,\n",
       "        0.7252, 0.6859, 0.7188, 0.7052, 0.7234, 0.7234, 0.7230, 0.6609, 0.7111,\n",
       "        0.7128, 0.6890, 0.6914, 0.7108, 0.7515, 0.6862, 0.6988, 0.7066, 0.7088,\n",
       "        0.7239, 0.7253, 0.7116, 0.7188, 0.7150, 0.7297, 0.7386, 0.6850, 0.6961,\n",
       "        0.7127, 0.7024, 0.7194, 0.7314, 0.6853, 0.7049, 0.6688, 0.6994, 0.6814,\n",
       "        0.6949, 0.7141, 0.7092, 0.7126, 0.7177, 0.7170, 0.7343, 0.7127, 0.7070,\n",
       "        0.7086, 0.6889, 0.6673, 0.6846, 0.6967, 0.6900, 0.7252, 0.7073, 0.6916,\n",
       "        0.6683, 0.6891, 0.6925, 0.7424, 0.7108, 0.7114, 0.7315, 0.7041, 0.7331,\n",
       "        0.7444, 0.7062, 0.7419, 0.7024, 0.6873, 0.6729, 0.7109, 0.6957, 0.6908,\n",
       "        0.7006, 0.6894, 0.7041, 0.7109, 0.6932, 0.7092, 0.7161, 0.7324, 0.7228,\n",
       "        0.7110, 0.7168, 0.6882, 0.7158, 0.6726, 0.7225, 0.7062, 0.7100, 0.7075,\n",
       "        0.7100, 0.6903, 0.7290, 0.7174, 0.7315, 0.7140, 0.6854, 0.6848, 0.7078,\n",
       "        0.7001, 0.7467, 0.6904, 0.7506, 0.7300, 0.7091, 0.7034, 0.7161, 0.6834,\n",
       "        0.6974, 0.6585, 0.7003, 0.7293, 0.7147, 0.7056, 0.7120, 0.6836, 0.7384,\n",
       "        0.7002, 0.6960, 0.7092, 0.6958, 0.7068, 0.7368, 0.6942, 0.6718, 0.6863,\n",
       "        0.7312, 0.7421, 0.7274, 0.7136, 0.6939, 0.6969, 0.7100, 0.7147, 0.7042,\n",
       "        0.7404, 0.6833, 0.6932, 0.7354, 0.7174, 0.7239, 0.6944, 0.6834, 0.6610,\n",
       "        0.7021, 0.7331, 0.7309, 0.6825, 0.7069, 0.7283, 0.7016, 0.7263, 0.7195,\n",
       "        0.7051, 0.7028, 0.6981, 0.7199, 0.6883, 0.7186, 0.7100, 0.7121, 0.6816,\n",
       "        0.6938, 0.6941, 0.6935, 0.6842, 0.7012, 0.7238, 0.7091, 0.7424, 0.6819,\n",
       "        0.6730, 0.6726, 0.7063, 0.7236, 0.6884, 0.7059, 0.6652, 0.6817, 0.6962,\n",
       "        0.7019, 0.7374, 0.6867, 0.7565, 0.7067, 0.7111, 0.7073, 0.7046, 0.7376,\n",
       "        0.7004, 0.6842, 0.6762, 0.7073, 0.6951, 0.7225, 0.6929, 0.7022, 0.7294,\n",
       "        0.7064, 0.7154, 0.7011, 0.7603, 0.7341, 0.7165, 0.6740, 0.7310, 0.6863,\n",
       "        0.7211, 0.6848, 0.7192, 0.7096, 0.7067, 0.7294, 0.7199, 0.7056, 0.7257,\n",
       "        0.6863, 0.6863, 0.7201, 0.6949, 0.7266, 0.6687, 0.6863, 0.7034, 0.7253,\n",
       "        0.7272, 0.7241, 0.7014, 0.7231, 0.7191, 0.6715, 0.7099, 0.7000, 0.7073,\n",
       "        0.7066, 0.7274, 0.7221, 0.7215, 0.7390, 0.7426, 0.7026, 0.6838, 0.6925,\n",
       "        0.7015, 0.6987, 0.7173, 0.7092, 0.6951, 0.6975, 0.7002, 0.7271, 0.7642,\n",
       "        0.7177, 0.7335, 0.7203, 0.7170, 0.7272, 0.7257, 0.6751, 0.7189, 0.7226,\n",
       "        0.7249, 0.7178, 0.7188, 0.7129, 0.7216, 0.7086, 0.7391, 0.6933, 0.7130,\n",
       "        0.7521, 0.7339, 0.7416, 0.6880, 0.7205, 0.7258, 0.6863, 0.7179, 0.6986,\n",
       "        0.7220, 0.7212, 0.6858, 0.7335, 0.7029, 0.7028, 0.7379, 0.7154, 0.6985,\n",
       "        0.6843, 0.7066, 0.7087, 0.7068, 0.7273, 0.7200, 0.6923, 0.6821, 0.7151,\n",
       "        0.6985, 0.7085, 0.6781, 0.7244, 0.7180, 0.6791, 0.6693, 0.6882, 0.6770,\n",
       "        0.7172, 0.7199, 0.7027, 0.7345, 0.6874, 0.7079, 0.7086, 0.7319, 0.7204,\n",
       "        0.6857, 0.7259, 0.7566, 0.7018, 0.6856, 0.6834, 0.7202, 0.7269, 0.7312,\n",
       "        0.7113, 0.7202, 0.6713, 0.6929, 0.6892, 0.7466, 0.7254, 0.7047, 0.7338,\n",
       "        0.7047, 0.7627, 0.7005, 0.7456, 0.7254, 0.6735, 0.7268, 0.7088, 0.7415,\n",
       "        0.6960, 0.6941, 0.6655, 0.7429, 0.7042, 0.7012, 0.7346, 0.7114, 0.7208,\n",
       "        0.6843, 0.7218, 0.6999, 0.7272, 0.6887, 0.7270, 0.7279, 0.7225, 0.7099,\n",
       "        0.7431, 0.6707, 0.6962, 0.7128, 0.6910, 0.7153, 0.7656, 0.7023, 0.6728,\n",
       "        0.7180, 0.7172, 0.6653, 0.6876, 0.6716, 0.7327, 0.7470, 0.7003, 0.6980,\n",
       "        0.7066, 0.7306, 0.7091, 0.7176, 0.7055, 0.6879, 0.6940, 0.7280, 0.7237,\n",
       "        0.7133, 0.7044, 0.6861, 0.7035, 0.7295, 0.6842, 0.7299, 0.6606, 0.7084,\n",
       "        0.7005, 0.7131, 0.6944, 0.6855, 0.6981, 0.7174, 0.6934, 0.7386, 0.6915,\n",
       "        0.7373, 0.6693, 0.6833, 0.7050, 0.7117, 0.6799, 0.7086, 0.7182, 0.6775,\n",
       "        0.6790, 0.6922, 0.7113, 0.7281, 0.7175, 0.6747, 0.7765, 0.7488, 0.7091,\n",
       "        0.6873, 0.7211, 0.6640, 0.7440, 0.7140, 0.6800, 0.7111, 0.7263, 0.7029,\n",
       "        0.6969, 0.7195, 0.7125, 0.7107, 0.7132, 0.6902, 0.6768, 0.7140, 0.7401,\n",
       "        0.7279, 0.6954, 0.7098, 0.7185, 0.7122, 0.7230, 0.7219, 0.7096, 0.6667,\n",
       "        0.7188, 0.6820, 0.6787, 0.7233, 0.6653, 0.6976, 0.7233, 0.7010, 0.6809,\n",
       "        0.7128, 0.6882, 0.7191, 0.6976, 0.6821, 0.7335, 0.7246, 0.7266, 0.7013,\n",
       "        0.7129, 0.6860, 0.7180, 0.7172, 0.6924, 0.6938, 0.7356, 0.7190, 0.7368,\n",
       "        0.7047, 0.6959, 0.7140, 0.6825, 0.7239, 0.7275, 0.7015, 0.7045, 0.7164,\n",
       "        0.6968, 0.7038, 0.6974, 0.7535, 0.7163, 0.6980, 0.6533, 0.7351, 0.7146,\n",
       "        0.6993, 0.7073, 0.7396, 0.6966, 0.7363, 0.7090, 0.6862, 0.6831, 0.6930,\n",
       "        0.6793, 0.6757, 0.6881, 0.7263, 0.6751, 0.7384, 0.7122, 0.6823, 0.7371,\n",
       "        0.6954, 0.7145, 0.7482, 0.7128, 0.7185, 0.7214, 0.7034, 0.6662, 0.7274,\n",
       "        0.7042, 0.7127, 0.6992, 0.7453, 0.7179, 0.7580, 0.7138, 0.7418, 0.7041,\n",
       "        0.7379, 0.7047, 0.6994, 0.7191, 0.7145, 0.6851, 0.7232, 0.7259, 0.6781,\n",
       "        0.6875, 0.7083, 0.7095, 0.7132, 0.7009, 0.6860, 0.6954, 0.6942, 0.6872,\n",
       "        0.7322, 0.7174, 0.6957, 0.7226, 0.6970, 0.6676, 0.7067, 0.6959, 0.7184,\n",
       "        0.7146, 0.7401, 0.7202, 0.7023, 0.7534, 0.7216, 0.6980, 0.7353, 0.7079,\n",
       "        0.6733, 0.7063, 0.7015, 0.7252, 0.7051, 0.7357, 0.7405, 0.7143, 0.6947,\n",
       "        0.7067, 0.7092, 0.7023, 0.7203, 0.7148, 0.7194, 0.7028, 0.7090, 0.7202,\n",
       "        0.6839, 0.7137, 0.7269, 0.6690, 0.6790, 0.7286, 0.6774, 0.7145, 0.7279,\n",
       "        0.7039, 0.7093, 0.7385, 0.6811, 0.6786, 0.7126, 0.7234, 0.7223, 0.7285,\n",
       "        0.6952, 0.6755, 0.7070, 0.6914, 0.6944, 0.7235, 0.7060, 0.7361, 0.7010,\n",
       "        0.7132, 0.6909, 0.7067, 0.7409, 0.7203, 0.7007, 0.6981, 0.6886, 0.7197,\n",
       "        0.6996, 0.6928, 0.7106, 0.7271, 0.7229, 0.7600, 0.7044, 0.7171, 0.7034,\n",
       "        0.7011, 0.7173, 0.7023, 0.7584, 0.6993, 0.7007, 0.6922, 0.6771, 0.7068,\n",
       "        0.7031, 0.6797, 0.6984, 0.7145, 0.6852, 0.6899, 0.7298, 0.6986, 0.6989,\n",
       "        0.7115, 0.6973, 0.7346, 0.6638, 0.7000, 0.7417, 0.7379, 0.7030, 0.7376,\n",
       "        0.6895, 0.7032, 0.7106, 0.7078, 0.7159, 0.7386, 0.7135, 0.7308, 0.7139,\n",
       "        0.7345, 0.7128, 0.7096, 0.7008, 0.7149, 0.6947, 0.7247, 0.7077, 0.6860,\n",
       "        0.7227, 0.7064, 0.6781, 0.6917, 0.6685, 0.7360, 0.7434, 0.7146, 0.7345,\n",
       "        0.6837, 0.7107, 0.7042, 0.7099, 0.7266, 0.7074, 0.7167, 0.7063, 0.7067,\n",
       "        0.7094, 0.7263, 0.7410, 0.6964, 0.7107, 0.7296, 0.7026, 0.7296, 0.7020,\n",
       "        0.6946, 0.6939, 0.7123, 0.7031, 0.6728, 0.7388, 0.7076, 0.7011, 0.7060,\n",
       "        0.7174, 0.6919, 0.6726, 0.7125, 0.6985, 0.7100, 0.7068, 0.6966, 0.7258,\n",
       "        0.7326, 0.6787, 0.6979, 0.7301, 0.7242, 0.7357, 0.7340, 0.7018, 0.7162,\n",
       "        0.6681, 0.7067, 0.7380, 0.7259, 0.7130, 0.7040, 0.6899, 0.7506, 0.7193,\n",
       "        0.7270, 0.7183, 0.7325, 0.7231, 0.6831, 0.6547, 0.7276, 0.7053, 0.6994,\n",
       "        0.6560, 0.7470, 0.7302, 0.7219, 0.7455, 0.6902, 0.7484, 0.7083, 0.7169,\n",
       "        0.7108, 0.7410, 0.7164, 0.7110, 0.7096, 0.7133, 0.7275, 0.7334, 0.7108,\n",
       "        0.6967, 0.7114, 0.7106, 0.6795, 0.6800, 0.7327, 0.7171, 0.7261, 0.7018,\n",
       "        0.7135, 0.7050, 0.7400, 0.7121, 0.7106, 0.7324, 0.7359, 0.6894, 0.7148,\n",
       "        0.7067, 0.7006, 0.6938, 0.7200, 0.6970, 0.6985, 0.7141, 0.6837, 0.7438,\n",
       "        0.7264, 0.7283, 0.7034, 0.7183, 0.7127, 0.7058, 0.7180, 0.7418, 0.6797,\n",
       "        0.7290, 0.7340, 0.7091, 0.7241, 0.7087, 0.6851, 0.7183, 0.7250, 0.7237,\n",
       "        0.6926, 0.6950, 0.7306, 0.7023, 0.7210, 0.7265, 0.7165, 0.7087, 0.7245])"
      ]
     },
     "execution_count": 45,
     "metadata": {},
     "output_type": "execute_result"
    }
   ],
   "source": [
    "similarities"
   ]
  },
  {
   "cell_type": "code",
   "execution_count": 44,
   "metadata": {
    "execution": {
     "iopub.execute_input": "2025-06-10T10:15:10.387391Z",
     "iopub.status.busy": "2025-06-10T10:15:10.387092Z",
     "iopub.status.idle": "2025-06-10T10:15:10.396901Z",
     "shell.execute_reply": "2025-06-10T10:15:10.396021Z",
     "shell.execute_reply.started": "2025-06-10T10:15:10.387369Z"
    },
    "trusted": true
   },
   "outputs": [
    {
     "data": {
      "text/html": [
       "<div>\n",
       "<style scoped>\n",
       "    .dataframe tbody tr th:only-of-type {\n",
       "        vertical-align: middle;\n",
       "    }\n",
       "\n",
       "    .dataframe tbody tr th {\n",
       "        vertical-align: top;\n",
       "    }\n",
       "\n",
       "    .dataframe thead th {\n",
       "        text-align: right;\n",
       "    }\n",
       "</style>\n",
       "<table border=\"1\" class=\"dataframe\">\n",
       "  <thead>\n",
       "    <tr style=\"text-align: right;\">\n",
       "      <th></th>\n",
       "      <th>Movie Name</th>\n",
       "      <th>Description</th>\n",
       "    </tr>\n",
       "  </thead>\n",
       "  <tbody>\n",
       "    <tr>\n",
       "      <th>0</th>\n",
       "      <td>The Shawshank Redemption</td>\n",
       "      <td>Two imprisoned men bond over a number of years...</td>\n",
       "    </tr>\n",
       "    <tr>\n",
       "      <th>1</th>\n",
       "      <td>The Godfather</td>\n",
       "      <td>An organized crime dynasty's aging patriarch t...</td>\n",
       "    </tr>\n",
       "    <tr>\n",
       "      <th>2</th>\n",
       "      <td>The Dark Knight</td>\n",
       "      <td>When the menace known as the Joker wreaks havo...</td>\n",
       "    </tr>\n",
       "    <tr>\n",
       "      <th>3</th>\n",
       "      <td>The Godfather: Part II</td>\n",
       "      <td>The early life and career of Vito Corleone in ...</td>\n",
       "    </tr>\n",
       "    <tr>\n",
       "      <th>4</th>\n",
       "      <td>12 Angry Men</td>\n",
       "      <td>A jury holdout attempts to prevent a miscarria...</td>\n",
       "    </tr>\n",
       "  </tbody>\n",
       "</table>\n",
       "</div>"
      ],
      "text/plain": [
       "                 Movie Name                                        Description\n",
       "0  The Shawshank Redemption  Two imprisoned men bond over a number of years...\n",
       "1             The Godfather  An organized crime dynasty's aging patriarch t...\n",
       "2           The Dark Knight  When the menace known as the Joker wreaks havo...\n",
       "3    The Godfather: Part II  The early life and career of Vito Corleone in ...\n",
       "4              12 Angry Men  A jury holdout attempts to prevent a miscarria..."
      ]
     },
     "execution_count": 44,
     "metadata": {},
     "output_type": "execute_result"
    }
   ],
   "source": [
    "movies_desc.head(5)"
   ]
  },
  {
   "cell_type": "code",
   "execution_count": 53,
   "metadata": {
    "execution": {
     "iopub.execute_input": "2025-06-10T10:20:48.936486Z",
     "iopub.status.busy": "2025-06-10T10:20:48.936193Z",
     "iopub.status.idle": "2025-06-10T10:20:48.944122Z",
     "shell.execute_reply": "2025-06-10T10:20:48.943142Z",
     "shell.execute_reply.started": "2025-06-10T10:20:48.936462Z"
    },
    "trusted": true
   },
   "outputs": [
    {
     "name": "stdout",
     "output_type": "stream",
     "text": [
      "Sunset Blvd.\n",
      "→ A screenwriter develops a dangerous relationship with a faded film star determined to make a triumphant return.\n",
      "\n",
      "The Big Short\n",
      "→ In 2006-2007 a group of investors bet against the US mortgage market. In their research they discover how flawed and corrupt the market is.\n",
      "\n",
      "In the Heat of the Night\n",
      "→ A black police detective is asked to investigate a murder in a racially hostile southern town.\n",
      "\n",
      "Per un pugno di dollari\n",
      "→ A wandering gunfighter plays two rival families against each other in a town torn apart by greed, pride, and revenge.\n",
      "\n",
      "Almost Famous\n",
      "→ A high-school boy is given the chance to write a story for Rolling Stone Magazine about an up-and-coming rock band as he accompanies them on their concert tour.\n",
      "\n"
     ]
    }
   ],
   "source": [
    "scores = cosine_similarity(user_embedding, embeddings)\n",
    "\n",
    "for idx in top_indices:\n",
    "    i = idx.item()  # convert from tensor to int\n",
    "    print(f\"{movies_desc.iloc[i]['Movie Name']}\\n→ {movies_desc.iloc[i]['Description']}\\n\")"
   ]
  },
  {
   "cell_type": "code",
   "execution_count": null,
   "metadata": {
    "trusted": true
   },
   "outputs": [],
   "source": []
  }
 ],
 "metadata": {
  "kaggle": {
   "accelerator": "none",
   "dataSources": [
    {
     "datasetId": 1131493,
     "sourceId": 1898721,
     "sourceType": "datasetVersion"
    }
   ],
   "dockerImageVersionId": 31040,
   "isGpuEnabled": false,
   "isInternetEnabled": true,
   "language": "python",
   "sourceType": "notebook"
  },
  "kernelspec": {
   "display_name": "Python 3",
   "language": "python",
   "name": "python3"
  },
  "language_info": {
   "codemirror_mode": {
    "name": "ipython",
    "version": 3
   },
   "file_extension": ".py",
   "mimetype": "text/x-python",
   "name": "python",
   "nbconvert_exporter": "python",
   "pygments_lexer": "ipython3",
   "version": "3.11.11"
  }
 },
 "nbformat": 4,
 "nbformat_minor": 4
}
